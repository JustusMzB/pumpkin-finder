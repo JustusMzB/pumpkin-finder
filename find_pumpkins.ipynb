{
 "cells": [
  {
   "cell_type": "markdown",
   "metadata": {},
   "source": [
    "# Web scraping to save time on a competition\n",
    "\n",
    "In 2024, E-Fellows.net, an online scholarship and career platform, hosted a sweepstakes on Halloween. In their collection of employer portraits, pages presenting various companies, they had hidden images of pumpkin 'baskets', containing candies.\n",
    "\n",
    "To enter the sweepstakes, I had the following objectives:\n",
    "- Find 8 filled pumpkin baskets\n",
    "- Note the names of the companies they were hidden on\n",
    "- Note the motive shown on the candies packaging\n",
    "- Note the number of candies in each basket\n",
    "\n",
    "As E-Fellows has a rather large company portfolio, I didn't want to use a substancial amount of my time on reading advertisement. \n",
    "Instead, I decided to write a web scraper to do the job for me, and got a little practice for my web-scraping skills in the process.\n",
    "\n",
    "## In layman's terms\n",
    "While a website looks like a nice and tidy page to us in our browser, it is actually represented in a file of HTML code. This code defines the structure of the page, in various elements, each of which have attributes. \n",
    "An example would be an image tag: \n",
    "```<img src=\"https://randomsource/image.jpg\" alt=\"A picture\">```\n",
    "This tag tells the browser to display an image, and the `src` attribute tells the browser where to find the image. Using the developer tools in your browser, you can look at this code. \n",
    "Attributes like `src` or `class` can be used to identify elements on a page, and search for them automatically. Through your browser, in the \"developer tools\" section, you can identify the code that represents the elements you are interested in, and use reoccuring themes in e.g. the image source to identify the elements you are interested in.\n",
    "\n",
    "We use this to write a program in Python, a common programming language, to create a list of all company protrait pages, and then look through each automatically to find the pumpkin basket images.\n",
    "If you did this for the first time, it would probably take you a while. But fortunately, I have some practice. So aside from writing this text, I only needed a few minutes to write the code and run it.\n",
    "\n"
   ]
  },
  {
   "cell_type": "markdown",
   "metadata": {},
   "source": [
    "## Aquiring the list of company pages\n",
    "The first step is to get a list of all company portrait pages. This is done by looking at the main page, and finding the links to the company pages, using the overview page of all companies."
   ]
  },
  {
   "cell_type": "code",
   "execution_count": 1,
   "metadata": {},
   "outputs": [],
   "source": [
    "import requests # For making HTTP requests\n",
    "from bs4 import BeautifulSoup # For parsing the pages\n",
    "from IPython.display import display, Markdown # For displaying Markdown\n",
    "from tqdm.auto import tqdm # For displaying progress bars\n",
    "\n",
    "base_company_portrait_url = \"https://www.e-fellows.net/unternehmen\"\n"
   ]
  },
  {
   "cell_type": "code",
   "execution_count": 2,
   "metadata": {},
   "outputs": [
    {
     "data": {
      "text/markdown": [
       "We found **101** companies on the page.      \n",
       "Assume scanning each page for pumpkins takes 30 seconds.      \n",
       "That is **50.5** minutes of scanning."
      ],
      "text/plain": [
       "<IPython.core.display.Markdown object>"
      ]
     },
     "metadata": {},
     "output_type": "display_data"
    }
   ],
   "source": [
    "list_page = requests.get(base_company_portrait_url)\n",
    "\n",
    "soup = BeautifulSoup(list_page.content, 'html.parser')\n",
    "company_links = []\n",
    "\n",
    "# Get all company links from the page by class.\n",
    "for link in soup.find_all(class_='headline__link', recursive=True):\n",
    "    company_links.append(link.get('href'))\n",
    "\n",
    "display(Markdown(f\"We found **{len(company_links)}** companies on the page.\\\n",
    "      \\nAssume scanning each page for pumpkins takes 30 seconds.\\\n",
    "      \\nThat is **{len(company_links) * 30 / 60}** minutes of scanning.\"))"
   ]
  },
  {
   "cell_type": "markdown",
   "metadata": {},
   "source": [
    "## Analyzing our target\n",
    "The next step is to find out how we can identify the pumpkin baskets. We do this by looking at the HTML code of the page, and finding a common theme in the image source.\n",
    "\n",
    "From the promotion page, we have a sample of the pumpkin we are looking for:\n",
    "```\n",
    "<img class=\"image__img\" src=\"https://www.e-fellows.net/uploads/NEU-Medienbibliothek/Unternehmen/00_Gewinnspiel/_contentSmall/Bonbon-Schaedel-2024.jpg\" srcset=\"https://www.e-fellows.net/uploads/NEU-Medienbibliothek/Unternehmen/00_Gewinnspiel/_750xAUTO_crop_center-center_none/Bonbon-Schaedel-2024.jpg 2x\" width=\"375\" height=\"161\" loading=\"lazy\" role=\"presentation\">\n",
    "```\n",
    "![Pumpkin](https://www.e-fellows.net/uploads/NEU-Medienbibliothek/Unternehmen/00_Gewinnspiel/_contentSmall/Bonbon-Schaedel-2024.jpg)\n",
    "\n",
    "We also found an empty pumpkin:\n",
    "```\n",
    "<img class=\"image__img\" src=\"https://www.e-fellows.net/uploads/NEU-Medienbibliothek/Unternehmen/00_Gewinnspiel/_contentSmall/Niete-2024.jpg\" srcset=\"https://www.e-fellows.net/uploads/NEU-Medienbibliothek/Unternehmen/00_Gewinnspiel/_750xAUTO_crop_center-center_none/Niete-2024.jpg 2x\" width=\"375\" height=\"161\" loading=\"lazy\" role=\"presentation\">\n",
    "```\n",
    "![Empty Pumpkin](https://www.e-fellows.net/uploads/NEU-Medienbibliothek/Unternehmen/00_Gewinnspiel/_contentSmall/Niete-2024.jpg)\n",
    "\n",
    "Looks like we want to look for \"Gewinnspiel\" in the URL. Let's do that.\n",
    "\n"
   ]
  },
  {
   "cell_type": "code",
   "execution_count": 3,
   "metadata": {},
   "outputs": [
    {
     "data": {
      "application/vnd.jupyter.widget-view+json": {
       "model_id": "c66f1f8664df44f88c03f73f75a87baf",
       "version_major": 2,
       "version_minor": 0
      },
      "text/plain": [
       "  0%|          | 0/101 [00:00<?, ?it/s]"
      ]
     },
     "metadata": {},
     "output_type": "display_data"
    },
    {
     "name": "stdout",
     "output_type": "stream",
     "text": [
      "https://www.e-fellows.net/uploads/NEU-Medienbibliothek/Unternehmen/00_Gewinnspiel/_contentSmall/Bonbon-Schaedel-2024.jpg\n",
      "https://www.e-fellows.net/unternehmen/gleiss-lutz\n",
      "has pumpkin \n",
      "\n",
      "https://www.e-fellows.net/uploads/NEU-Medienbibliothek/Unternehmen/00_Gewinnspiel/_contentSmall/Bonbon-Geist-2024.jpg\n",
      "https://www.e-fellows.net/unternehmen/forvis-mazars\n",
      "has pumpkin \n",
      "\n",
      "https://www.e-fellows.net/uploads/NEU-Medienbibliothek/Unternehmen/00_Gewinnspiel/_contentSmall/Bonbon-Kuerbis-2024.jpg\n",
      "https://www.e-fellows.net/unternehmen/enova\n",
      "has pumpkin \n",
      "\n",
      "https://www.e-fellows.net/uploads/NEU-Medienbibliothek/Unternehmen/00_Gewinnspiel/_contentSmall/Bonbon-Fledermaus-2024.jpg\n",
      "https://www.e-fellows.net/unternehmen/lidl/trainee-programm\n",
      "has pumpkin \n",
      "\n",
      "https://www.e-fellows.net/uploads/NEU-Medienbibliothek/Unternehmen/00_Gewinnspiel/_contentSmall/Niete-2024.jpg\n",
      "https://www.e-fellows.net/unternehmen/hkp-group\n",
      "has pumpkin \n",
      "\n",
      "https://www.e-fellows.net/uploads/NEU-Medienbibliothek/Unternehmen/00_Gewinnspiel/_contentSmall/Niete-2024.jpg\n",
      "https://www.e-fellows.net/unternehmen/allianz-consulting\n",
      "has pumpkin \n",
      "\n",
      "https://www.e-fellows.net/uploads/NEU-Medienbibliothek/Unternehmen/00_Gewinnspiel/_contentSmall/Niete-2024.jpg\n",
      "https://www.e-fellows.net/unternehmen/rsm-ebner-stolz-management-consultants-gmbh\n",
      "has pumpkin \n",
      "\n",
      "https://www.e-fellows.net/uploads/NEU-Medienbibliothek/Unternehmen/00_Gewinnspiel/_contentSmall/Bonbon-Spinne-2024.jpg\n",
      "https://www.e-fellows.net/unternehmen/wavestone\n",
      "has pumpkin \n",
      "\n",
      "https://www.e-fellows.net/uploads/NEU-Medienbibliothek/Unternehmen/00_Gewinnspiel/_contentSmall/Bonbon-Auge-2024.jpg\n",
      "https://www.e-fellows.net/unternehmen/pepsico\n",
      "has pumpkin \n",
      "\n",
      "https://www.e-fellows.net/uploads/NEU-Medienbibliothek/Unternehmen/00_Gewinnspiel/_contentSmall/Niete-2024.jpg\n",
      "https://www.e-fellows.net/unternehmen/ey\n",
      "has pumpkin \n",
      "\n",
      "https://www.e-fellows.net/uploads/NEU-Medienbibliothek/Unternehmen/00_Gewinnspiel/_contentSmall/Bonbon-Katze-2024.jpg\n",
      "https://www.e-fellows.net/unternehmen/basf\n",
      "has pumpkin \n",
      "\n",
      "https://www.e-fellows.net/uploads/NEU-Medienbibliothek/Unternehmen/00_Gewinnspiel/_contentSmall/Niete-2024.jpg\n",
      "https://www.e-fellows.net/unternehmen/munich-re\n",
      "has pumpkin \n",
      "\n",
      "https://www.e-fellows.net/uploads/NEU-Medienbibliothek/Unternehmen/00_Gewinnspiel/_contentSmall/Bonbon-Hut-2024.jpg\n",
      "https://www.e-fellows.net/unternehmen/capgemini\n",
      "has pumpkin \n",
      "\n",
      "https://www.e-fellows.net/uploads/NEU-Medienbibliothek/Unternehmen/00_Gewinnspiel/_contentSmall/Niete-2024.jpg\n",
      "https://www.e-fellows.net/unternehmen/burda/trainee-programm\n",
      "has pumpkin \n",
      "\n",
      "https://www.e-fellows.net/uploads/NEU-Medienbibliothek/Unternehmen/00_Gewinnspiel/_contentSmall/Niete-2024.jpg\n",
      "https://www.e-fellows.net/unternehmen/deutsche-bank\n",
      "has pumpkin \n",
      "\n"
     ]
    }
   ],
   "source": [
    "def img_has_in_url(page_soup, keyword):\n",
    "    if not isinstance(page_soup, BeautifulSoup): \n",
    "        page_soup = BeautifulSoup(page_soup, 'html.parser')\n",
    "        \n",
    "    for img in page_soup.find_all('img'):\n",
    "        if keyword in img.get('src'):\n",
    "            # We print the source url for further insights.\n",
    "            print(img.get('src'))\n",
    "            return True\n",
    "        \n",
    "for company_link in tqdm(company_links):\n",
    "    company_page = requests.get(company_link)\n",
    "    if img_has_in_url(company_page.content, \"Gewinnspiel\"):\n",
    "        print(company_link)\n",
    "        print(\"has pumpkin \\n\")"
   ]
  },
  {
   "cell_type": "markdown",
   "metadata": {},
   "source": [
    "We discover that only some pumpkins are full, while others are empty. We can also see that the full ones have \"Bonbon\" in their image source. Let's re-define the problem as finding the pumpkin with \"Bonbon\" in the URL."
   ]
  },
  {
   "cell_type": "code",
   "execution_count": 4,
   "metadata": {},
   "outputs": [
    {
     "data": {
      "application/vnd.jupyter.widget-view+json": {
       "model_id": "019016084200409e932f0ae99c33b19f",
       "version_major": 2,
       "version_minor": 0
      },
      "text/plain": [
       "  0%|          | 0/101 [00:00<?, ?it/s]"
      ]
     },
     "metadata": {},
     "output_type": "display_data"
    },
    {
     "name": "stdout",
     "output_type": "stream",
     "text": [
      "https://www.e-fellows.net/uploads/NEU-Medienbibliothek/Unternehmen/00_Gewinnspiel/_contentSmall/Bonbon-Schaedel-2024.jpg\n",
      "https://www.e-fellows.net/unternehmen/gleiss-lutz\n",
      "has full pumpkin\n",
      "https://www.e-fellows.net/uploads/NEU-Medienbibliothek/Unternehmen/00_Gewinnspiel/_contentSmall/Bonbon-Geist-2024.jpg\n",
      "https://www.e-fellows.net/unternehmen/forvis-mazars\n",
      "has full pumpkin\n",
      "https://www.e-fellows.net/uploads/NEU-Medienbibliothek/Unternehmen/00_Gewinnspiel/_contentSmall/Bonbon-Kuerbis-2024.jpg\n",
      "https://www.e-fellows.net/unternehmen/enova\n",
      "has full pumpkin\n",
      "https://www.e-fellows.net/uploads/NEU-Medienbibliothek/Unternehmen/00_Gewinnspiel/_contentSmall/Bonbon-Fledermaus-2024.jpg\n",
      "https://www.e-fellows.net/unternehmen/lidl/trainee-programm\n",
      "has full pumpkin\n",
      "https://www.e-fellows.net/uploads/NEU-Medienbibliothek/Unternehmen/00_Gewinnspiel/_contentSmall/Bonbon-Spinne-2024.jpg\n",
      "https://www.e-fellows.net/unternehmen/wavestone\n",
      "has full pumpkin\n",
      "https://www.e-fellows.net/uploads/NEU-Medienbibliothek/Unternehmen/00_Gewinnspiel/_contentSmall/Bonbon-Auge-2024.jpg\n",
      "https://www.e-fellows.net/unternehmen/pepsico\n",
      "has full pumpkin\n",
      "https://www.e-fellows.net/uploads/NEU-Medienbibliothek/Unternehmen/00_Gewinnspiel/_contentSmall/Bonbon-Katze-2024.jpg\n",
      "https://www.e-fellows.net/unternehmen/basf\n",
      "has full pumpkin\n",
      "https://www.e-fellows.net/uploads/NEU-Medienbibliothek/Unternehmen/00_Gewinnspiel/_contentSmall/Bonbon-Hut-2024.jpg\n",
      "https://www.e-fellows.net/unternehmen/capgemini\n",
      "has full pumpkin\n"
     ]
    }
   ],
   "source": [
    "def has_full_pumpkin(page_soup):\n",
    "    return img_has_in_url(page_soup, \"Bonbon\")\n",
    "\n",
    "winning_links = []\n",
    "for company_link in tqdm(company_links):\n",
    "    company_page = requests.get(company_link)\n",
    "    if has_full_pumpkin(company_page.content):\n",
    "        print(company_link)\n",
    "        print(\"has full pumpkin\")\n",
    "        winning_links.append(company_link)"
   ]
  },
  {
   "cell_type": "markdown",
   "metadata": {},
   "source": [
    "## The Solution\n",
    "This gives us a list of all company pages that have a pumpkin basket image.\n",
    "Now we only have to go on these websites and count the candies, we can even determine Motive and Company from the image sources.\n",
    "E-Fellows has specified a fromat in which to present the results. According to this format, we will present the results in the following way:\n",
    "\n",
    "```\n",
    "Capgemini/Bonbons: 2/Motiv: Hut\n",
    "BASF/Bonbons: 3/Motiv: Katze\n",
    "Pepsico/Bonbons: 4/Motiv: Auge\n",
    "Wavestone/Bonbons: 7/Motiv: Spinne\n",
    "Enova/Bonbons: 5/Motiv: Kürbis\n",
    "Lidl/Bonbons: 6/Motiv: Fledermaus\n",
    "Forvis Mazars/Bonbons: 4/Motiv: Geist\n",
    "Gleiss Lutz/Bonbons: 5/Motiv: Schädel\n",
    "```\n",
    "\n",
    "## Additional Fun\n",
    "### Automatically extracting names and motives\n",
    "I decided to do some more things for fun and proof of concept. How, for example, would we automatically extract the company name and the motive from the image source? We can do this using regular expressions, a powerful way to describe and extract patterns in and from text."
   ]
  },
  {
   "cell_type": "code",
   "execution_count": 5,
   "metadata": {},
   "outputs": [],
   "source": [
    "import re\n",
    "\n",
    "def get_sweet_link(page_soup):\n",
    "    if not isinstance(page_soup, BeautifulSoup): \n",
    "        page_soup = BeautifulSoup(page_soup, 'html.parser')\n",
    "        \n",
    "    for link in page_soup.find_all('img'):\n",
    "        if \"Bonbon\" in link.get('src'):\n",
    "            return link.get('src')\n",
    "\n",
    "sweet_pages = [requests.get(link) for link in winning_links]\n",
    "sweet_image_links = [get_sweet_link(page.content) for page in sweet_pages]\n"
   ]
  },
  {
   "cell_type": "code",
   "execution_count": 6,
   "metadata": {},
   "outputs": [
    {
     "data": {
      "text/markdown": [
       "Company: **gleiss-lutz** has the motive: **Schaedel**"
      ],
      "text/plain": [
       "<IPython.core.display.Markdown object>"
      ]
     },
     "metadata": {},
     "output_type": "display_data"
    },
    {
     "data": {
      "text/markdown": [
       "Company: **forvis-mazars** has the motive: **Geist**"
      ],
      "text/plain": [
       "<IPython.core.display.Markdown object>"
      ]
     },
     "metadata": {},
     "output_type": "display_data"
    },
    {
     "data": {
      "text/markdown": [
       "Company: **enova** has the motive: **Kuerbis**"
      ],
      "text/plain": [
       "<IPython.core.display.Markdown object>"
      ]
     },
     "metadata": {},
     "output_type": "display_data"
    },
    {
     "data": {
      "text/markdown": [
       "Company: **lidl** has the motive: **Fledermaus**"
      ],
      "text/plain": [
       "<IPython.core.display.Markdown object>"
      ]
     },
     "metadata": {},
     "output_type": "display_data"
    },
    {
     "data": {
      "text/markdown": [
       "Company: **wavestone** has the motive: **Spinne**"
      ],
      "text/plain": [
       "<IPython.core.display.Markdown object>"
      ]
     },
     "metadata": {},
     "output_type": "display_data"
    },
    {
     "data": {
      "text/markdown": [
       "Company: **pepsico** has the motive: **Auge**"
      ],
      "text/plain": [
       "<IPython.core.display.Markdown object>"
      ]
     },
     "metadata": {},
     "output_type": "display_data"
    },
    {
     "data": {
      "text/markdown": [
       "Company: **basf** has the motive: **Katze**"
      ],
      "text/plain": [
       "<IPython.core.display.Markdown object>"
      ]
     },
     "metadata": {},
     "output_type": "display_data"
    },
    {
     "data": {
      "text/markdown": [
       "Company: **capgemini** has the motive: **Hut**"
      ],
      "text/plain": [
       "<IPython.core.display.Markdown object>"
      ]
     },
     "metadata": {},
     "output_type": "display_data"
    }
   ],
   "source": [
    "bonbon_regex = r\"https://www.e-fellows.net/.*/Bonbon-(\\w*)-2024.jpg\"\n",
    "company_regex = r\"https://www.e-fellows.net/unternehmen/([\\w\\-]*)/?.*\"\n",
    "\n",
    "bonbon_motives = [re.findall(bonbon_regex, link)[0] for link in sweet_image_links]\n",
    "company_names = [re.findall(company_regex, link)[0] for link in winning_links]\n",
    "\n",
    "pairs = zip(company_names, bonbon_motives)\n",
    "for pair in pairs:\n",
    "    display(Markdown(f\"Company: **{pair[0]}** has the motive: **{pair[1]}**\"))"
   ]
  },
  {
   "cell_type": "markdown",
   "metadata": {},
   "source": [
    "### Automatically counting candy with OpenAI?\n",
    "Now imagine not having to count the candies in the pumpkins. We could automatically do sweepstake after sweepstake! So we also try to count the candies using OpenAI's GPT-4o, their most recent multimodal model."
   ]
  },
  {
   "cell_type": "code",
   "execution_count": 7,
   "metadata": {},
   "outputs": [
    {
     "data": {
      "text/plain": [
       "'8'"
      ]
     },
     "execution_count": 7,
     "metadata": {},
     "output_type": "execute_result"
    }
   ],
   "source": [
    "import json\n",
    "def count_candy(image_url, openai_key):\n",
    "    # Wrapper to a specific OpenAI API Call\n",
    "    response = requests.post(\"https://api.openai.com/v1/chat/completions\",\n",
    "    headers={\n",
    "        \"Authorization\": f\"Bearer {openai_key}\",\n",
    "        \"Content-Type\": \"application/json\"},\n",
    "    data= json.dumps(\n",
    "    {\n",
    "    \"model\": \"gpt-4o\",\n",
    "    \"messages\": [\n",
    "      {\n",
    "        \"role\": \"user\",\n",
    "        \"content\": [\n",
    "          {\n",
    "            \"type\": \"text\",\n",
    "            \"text\": \"How many Candies are in the Pumpkin? Answer with a number only.\"\n",
    "          },\n",
    "          {\n",
    "            \"type\": \"image_url\",\n",
    "            \"image_url\": {\n",
    "              \"url\": image_url\n",
    "            }\n",
    "          }\n",
    "        ]\n",
    "      }\n",
    "    ],\n",
    "    \"max_tokens\": 300\n",
    "  }\n",
    "          )\n",
    "  )\n",
    "    return response.json()\n",
    "\n",
    "try:\n",
    "    openai_key = open(\"openai_key.txt\", \"r\").read()\n",
    "except FileNotFoundError:\n",
    "    import getpass\n",
    "    openai_key = getpass.getpass(\"Please enter your OpenAI key: \")\n",
    "\n",
    "# Do a test request, and print response\n",
    "resp = count_candy(sweet_image_links[0], openai_key)\n",
    "resp['choices'][0]['message']['content']\n",
    "\n"
   ]
  },
  {
   "cell_type": "code",
   "execution_count": 8,
   "metadata": {},
   "outputs": [],
   "source": [
    "def candy_count_to_number_wrapper(response):\n",
    "    return int(response['choices'][0]['message']['content'])\n",
    "\n",
    "counts = [candy_count_to_number_wrapper(count_candy(link, openai_key)) for link in sweet_image_links]"
   ]
  },
  {
   "cell_type": "code",
   "execution_count": 9,
   "metadata": {},
   "outputs": [
    {
     "name": "stdout",
     "output_type": "stream",
     "text": [
      "gleiss-lutz/Bonbons: 7/Motiv: Schaedel\n",
      "forvis-mazars/Bonbons: 5/Motiv: Geist\n",
      "enova/Bonbons: 8/Motiv: Kuerbis\n",
      "lidl/Bonbons: 7/Motiv: Fledermaus\n",
      "wavestone/Bonbons: 11/Motiv: Spinne\n",
      "pepsico/Bonbons: 7/Motiv: Auge\n",
      "basf/Bonbons: 5/Motiv: Katze\n",
      "capgemini/Bonbons: 2/Motiv: Hut\n"
     ]
    }
   ],
   "source": [
    "# Print the results in the official format\n",
    "for i in zip(company_names, counts, bonbon_motives):\n",
    "    print(f\"{i[0]}/Bonbons: {i[1]}/Motiv: {i[2]}\")"
   ]
  },
  {
   "cell_type": "markdown",
   "metadata": {},
   "source": [
    "Unfortunately, the AI was not able to count the candies reliably... But if it could, this Idea would have worked perfectly!"
   ]
  },
  {
   "cell_type": "markdown",
   "metadata": {},
   "source": [
    "## My takeaways\n",
    "Without the additional fun parts and writing explaining text, I was able to find the solution to our problem in around 30 minutes. This is far less that the very optimistic 50 minutes I would have taken manually, and I am sure that it was way more fun... I can reccommend this approach to anyone who is in a similar situation, it's a fun exercise. Another  takeaway is to not blindly trust AI, it's not able to count that well yet.\n",
    "\n",
    "This was successful, let's see if I win the price."
   ]
  }
 ],
 "metadata": {
  "kernelspec": {
   "display_name": "base",
   "language": "python",
   "name": "python3"
  },
  "language_info": {
   "codemirror_mode": {
    "name": "ipython",
    "version": 3
   },
   "file_extension": ".py",
   "mimetype": "text/x-python",
   "name": "python",
   "nbconvert_exporter": "python",
   "pygments_lexer": "ipython3",
   "version": "3.12.2"
  }
 },
 "nbformat": 4,
 "nbformat_minor": 2
}
