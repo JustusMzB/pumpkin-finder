{
 "cells": [
  {
   "cell_type": "markdown",
   "metadata": {},
   "source": [
    "# Web scraping to save time on a competition\n",
    "\n",
    "In 2024, E-Fellows.net hosted a sweepstakes on Halloween. In their collection of employer portraits, they had hidden images of pumpkins.\n",
    "\n",
    "The objective was to find all 8 pumpkins in those pages, count the amounts of candies in each pumpkin, note the motive on the sweets, and send the results to E-Fellows.net.\n",
    "\n",
    "I didn't want to waste my time scrolling through all the pages, so I decided to write a web scraper to do the job for me, and got a little practice for my web-scraping skills in the proces."
   ]
  },
  {
   "cell_type": "code",
   "execution_count": 1,
   "metadata": {},
   "outputs": [],
   "source": [
    "import requests # For making HTTP requests\n",
    "from bs4 import BeautifulSoup # For parsing the pages\n",
    "\n",
    "base_company_portrait_url = \"https://www.e-fellows.net/unternehmen\"\n"
   ]
  },
  {
   "cell_type": "code",
   "execution_count": 2,
   "metadata": {},
   "outputs": [
    {
     "name": "stdout",
     "output_type": "stream",
     "text": [
      "We found 102 companies on the page.      \n",
      "Assume scanning each page for pumpkins takes 30 seconds.      \n",
      "That is 51.0 minutes of scanning.\n"
     ]
    }
   ],
   "source": [
    "list_page = requests.get(base_company_portrait_url)\n",
    "\n",
    "soup = BeautifulSoup(list_page.content, 'html.parser')\n",
    "company_links = []\n",
    "\n",
    "# Get all company links from the page by class.\n",
    "for link in soup.find_all(class_='headline__link', recursive=True):\n",
    "    company_links.append(link.get('href'))\n",
    "\n",
    "print(f\"We found {len(company_links)} companies on the page.\\\n",
    "      \\nAssume scanning each page for pumpkins takes 30 seconds.\\\n",
    "      \\nThat is {len(company_links) * 30 / 60} minutes of scanning.\")"
   ]
  },
  {
   "cell_type": "markdown",
   "metadata": {},
   "source": [
    "From the promotion page, we have a sample of the pumpkin we are looking for:\n",
    "```\n",
    "<img class=\"image__img\" src=\"https://www.e-fellows.net/uploads/NEU-Medienbibliothek/Unternehmen/00_Gewinnspiel/_contentSmall/Bonbon-Schaedel-2024.jpg\" srcset=\"https://www.e-fellows.net/uploads/NEU-Medienbibliothek/Unternehmen/00_Gewinnspiel/_750xAUTO_crop_center-center_none/Bonbon-Schaedel-2024.jpg 2x\" width=\"375\" height=\"161\" loading=\"lazy\" role=\"presentation\">\n",
    "```\n",
    "\n",
    "We also found an empty pumpkin:\n",
    "```\n",
    "<img class=\"image__img\" src=\"https://www.e-fellows.net/uploads/NEU-Medienbibliothek/Unternehmen/00_Gewinnspiel/_contentSmall/Niete-2024.jpg\" srcset=\"https://www.e-fellows.net/uploads/NEU-Medienbibliothek/Unternehmen/00_Gewinnspiel/_750xAUTO_crop_center-center_none/Niete-2024.jpg 2x\" width=\"375\" height=\"161\" loading=\"lazy\" role=\"presentation\">\n",
    "```\n",
    "\n",
    "Looks like we want to look for \"Gewinnspiel\" in the URL. Let's do that.\n",
    "\n"
   ]
  },
  {
   "cell_type": "code",
   "execution_count": 3,
   "metadata": {},
   "outputs": [
    {
     "name": "stdout",
     "output_type": "stream",
     "text": [
      "https://www.e-fellows.net/uploads/NEU-Medienbibliothek/Unternehmen/00_Gewinnspiel/_contentSmall/Niete-2024.jpg\n",
      "https://www.e-fellows.net/unternehmen/deutsche-bank\n",
      "has pumpkin\n",
      "https://www.e-fellows.net/uploads/NEU-Medienbibliothek/Unternehmen/00_Gewinnspiel/_contentSmall/Niete-2024.jpg\n",
      "https://www.e-fellows.net/unternehmen/burda/trainee-programm\n",
      "has pumpkin\n",
      "https://www.e-fellows.net/uploads/NEU-Medienbibliothek/Unternehmen/00_Gewinnspiel/_contentSmall/Bonbon-Hut-2024.jpg\n",
      "https://www.e-fellows.net/unternehmen/capgemini\n",
      "has pumpkin\n",
      "https://www.e-fellows.net/uploads/NEU-Medienbibliothek/Unternehmen/00_Gewinnspiel/_contentSmall/Niete-2024.jpg\n",
      "https://www.e-fellows.net/unternehmen/munich-re\n",
      "has pumpkin\n",
      "https://www.e-fellows.net/uploads/NEU-Medienbibliothek/Unternehmen/00_Gewinnspiel/_contentSmall/Bonbon-Katze-2024.jpg\n",
      "https://www.e-fellows.net/unternehmen/basf\n",
      "has pumpkin\n",
      "https://www.e-fellows.net/uploads/NEU-Medienbibliothek/Unternehmen/00_Gewinnspiel/_contentSmall/Niete-2024.jpg\n",
      "https://www.e-fellows.net/unternehmen/ey\n",
      "has pumpkin\n",
      "https://www.e-fellows.net/uploads/NEU-Medienbibliothek/Unternehmen/00_Gewinnspiel/_contentSmall/Bonbon-Auge-2024.jpg\n",
      "https://www.e-fellows.net/unternehmen/pepsico\n",
      "has pumpkin\n",
      "https://www.e-fellows.net/uploads/NEU-Medienbibliothek/Unternehmen/00_Gewinnspiel/_contentSmall/Bonbon-Spinne-2024.jpg\n",
      "https://www.e-fellows.net/unternehmen/wavestone\n",
      "has pumpkin\n",
      "https://www.e-fellows.net/uploads/NEU-Medienbibliothek/Unternehmen/00_Gewinnspiel/_contentSmall/Niete-2024.jpg\n",
      "https://www.e-fellows.net/unternehmen/rsm-ebner-stolz-management-consultants-gmbh\n",
      "has pumpkin\n",
      "https://www.e-fellows.net/uploads/NEU-Medienbibliothek/Unternehmen/00_Gewinnspiel/_contentSmall/Niete-2024.jpg\n",
      "https://www.e-fellows.net/unternehmen/allianz-consulting\n",
      "has pumpkin\n",
      "https://www.e-fellows.net/uploads/NEU-Medienbibliothek/Unternehmen/00_Gewinnspiel/_contentSmall/Niete-2024.jpg\n",
      "https://www.e-fellows.net/unternehmen/hkp-group\n",
      "has pumpkin\n",
      "https://www.e-fellows.net/uploads/NEU-Medienbibliothek/Unternehmen/00_Gewinnspiel/_contentSmall/Bonbon-Kuerbis-2024.jpg\n",
      "https://www.e-fellows.net/unternehmen/enova\n",
      "has pumpkin\n",
      "https://www.e-fellows.net/uploads/NEU-Medienbibliothek/Unternehmen/00_Gewinnspiel/_contentSmall/Bonbon-Fledermaus-2024.jpg\n",
      "https://www.e-fellows.net/unternehmen/lidl/trainee-programm\n",
      "has pumpkin\n",
      "https://www.e-fellows.net/uploads/NEU-Medienbibliothek/Unternehmen/00_Gewinnspiel/_contentSmall/Bonbon-Geist-2024.jpg\n",
      "https://www.e-fellows.net/unternehmen/forvis-mazars\n",
      "has pumpkin\n",
      "https://www.e-fellows.net/uploads/NEU-Medienbibliothek/Unternehmen/00_Gewinnspiel/_contentSmall/Bonbon-Schaedel-2024.jpg\n",
      "https://www.e-fellows.net/unternehmen/gleiss-lutz\n",
      "has pumpkin\n"
     ]
    }
   ],
   "source": [
    "def img_has_in_url(page_soup, keyword):\n",
    "    if not isinstance(page_soup, BeautifulSoup): \n",
    "        page_soup = BeautifulSoup(page_soup, 'html.parser')\n",
    "        \n",
    "    for img in page_soup.find_all('img'):\n",
    "        if keyword in img.get('src'):\n",
    "            # We print the source url for further insights.\n",
    "            print(img.get('src'))\n",
    "            return True\n",
    "        \n",
    "for company_link in company_links:\n",
    "    company_page = requests.get(company_link)\n",
    "    if img_has_in_url(company_page.content, \"Gewinnspiel\"):\n",
    "        print(company_link)\n",
    "        print(\"has pumpkin\")"
   ]
  },
  {
   "cell_type": "markdown",
   "metadata": {},
   "source": [
    "We discover that only some pumpkins are full, they have \"Bonbon\" in every successfull catch. Let's re-define the problem as finding the pumpkin with \"Bonbon\" in the URL."
   ]
  },
  {
   "cell_type": "code",
   "execution_count": 4,
   "metadata": {},
   "outputs": [
    {
     "name": "stdout",
     "output_type": "stream",
     "text": [
      "https://www.e-fellows.net/uploads/NEU-Medienbibliothek/Unternehmen/00_Gewinnspiel/_contentSmall/Bonbon-Hut-2024.jpg\n",
      "https://www.e-fellows.net/uploads/NEU-Medienbibliothek/Unternehmen/00_Gewinnspiel/_contentSmall/Bonbon-Katze-2024.jpg\n",
      "https://www.e-fellows.net/uploads/NEU-Medienbibliothek/Unternehmen/00_Gewinnspiel/_contentSmall/Bonbon-Auge-2024.jpg\n",
      "https://www.e-fellows.net/uploads/NEU-Medienbibliothek/Unternehmen/00_Gewinnspiel/_contentSmall/Bonbon-Spinne-2024.jpg\n",
      "https://www.e-fellows.net/uploads/NEU-Medienbibliothek/Unternehmen/00_Gewinnspiel/_contentSmall/Bonbon-Kuerbis-2024.jpg\n",
      "https://www.e-fellows.net/uploads/NEU-Medienbibliothek/Unternehmen/00_Gewinnspiel/_contentSmall/Bonbon-Fledermaus-2024.jpg\n",
      "https://www.e-fellows.net/uploads/NEU-Medienbibliothek/Unternehmen/00_Gewinnspiel/_contentSmall/Bonbon-Geist-2024.jpg\n",
      "https://www.e-fellows.net/uploads/NEU-Medienbibliothek/Unternehmen/00_Gewinnspiel/_contentSmall/Bonbon-Schaedel-2024.jpg\n"
     ]
    }
   ],
   "source": [
    "def has_full_pumpkin(page_soup):\n",
    "    img_has_in_url(page_soup, \"Bonbon\")\n",
    "\n",
    "winning_links = []\n",
    "for company_link in company_links:\n",
    "    company_page = requests.get(company_link)\n",
    "    if has_full_pumpkin(company_page.content):\n",
    "        print(company_link)\n",
    "        print(\"has full pumpkin\")\n",
    "        winning_links.append(company_link)"
   ]
  },
  {
   "cell_type": "markdown",
   "metadata": {},
   "source": [
    "For each of these, we have to name the company, the motive and the count of sweets. The latter can only be extracted visually, we chose to do this manually. However, as a little toy experiment, I want to extract the company and the motive using a some regex magic."
   ]
  },
  {
   "cell_type": "code",
   "execution_count": 5,
   "metadata": {},
   "outputs": [],
   "source": [
    "import re\n",
    "\n",
    "def get_sweet_link(page_soup):\n",
    "    if not isinstance(page_soup, BeautifulSoup): \n",
    "        page_soup = BeautifulSoup(page_soup, 'html.parser')\n",
    "        \n",
    "    for link in page_soup.find_all('img'):\n",
    "        if \"Bonbon\" in link.get('src'):\n",
    "            return link.get('src')\n",
    "\n",
    "sweet_pages = [requests.get(link) for link in winning_links]\n",
    "sweet_image_links = [get_sweet_link(page.content) for page in sweet_pages]\n"
   ]
  },
  {
   "cell_type": "code",
   "execution_count": 6,
   "metadata": {},
   "outputs": [],
   "source": [
    "bonbon_regex = r\"https://www.e-fellows.net/.*/Bonbon-(\\w*)-2024.jpg\"\n",
    "company_regex = r\"https://www.e-fellows.net/unternehmen/([\\w\\-]*)/?.*\"\n",
    "\n",
    "bonbon_motives = [re.findall(bonbon_regex, link)[0] for link in sweet_image_links]\n",
    "company_names = [re.findall(company_regex, link)[0] for link in winning_links]\n",
    "\n",
    "pairs = zip(company_names, bonbon_motives)\n",
    "for pair in pairs:\n",
    "    print(f\"Company: {pair[0]} has the motive: {pair[1]}\")"
   ]
  },
  {
   "cell_type": "markdown",
   "metadata": {},
   "source": [
    "Results according to the desired format:\n",
    "\n",
    "```\n",
    "Capgemini/Bonbons: 2/Motiv: Hut\n",
    "BASF/Bonbons: 3/Motiv: Katze\n",
    "Pepsico/Bonbons: 4/Motiv: Auge\n",
    "Wavestone/Bonbons: 7/Motiv: Spinne\n",
    "Enova/Bonbons: 5/Motiv: Kürbis\n",
    "Lidl/Bonbons: 6/Motiv: Fledermaus\n",
    "Forvis Mazars/Bonbons: 4/Motiv: Geist\n",
    "Gleiss Lutz/Bonbons: 5/Motiv: Schädel\n",
    "```"
   ]
  },
  {
   "cell_type": "markdown",
   "metadata": {},
   "source": [
    "## My takeaways\n",
    "Through this fast prototyping exercise, i took 30 minutes instead of optimistic 52 to get all necessary results. It was paramount not to over-engineer the solution, as the time saved was the main objective. I can reccommend this approach to anyone who is in a similar situation, it's a fun exercise.\n",
    "\n",
    "This was successful, let's see if I win the price."
   ]
  }
 ],
 "metadata": {
  "kernelspec": {
   "display_name": "base",
   "language": "python",
   "name": "python3"
  },
  "language_info": {
   "codemirror_mode": {
    "name": "ipython",
    "version": 3
   },
   "file_extension": ".py",
   "mimetype": "text/x-python",
   "name": "python",
   "nbconvert_exporter": "python",
   "pygments_lexer": "ipython3",
   "version": "3.12.2"
  }
 },
 "nbformat": 4,
 "nbformat_minor": 2
}
